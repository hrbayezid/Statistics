{
 "cells": [
  {
   "cell_type": "code",
   "execution_count": null,
   "metadata": {},
   "outputs": [],
   "source": [
    "import numpy as np\n",
    "import scipy.stats as st"
   ]
  },
  {
   "cell_type": "code",
   "execution_count": 2,
   "metadata": {},
   "outputs": [],
   "source": [
    "# A manufacturer claims that the average weight of a bag of potato chips is 750\n",
    "# grams. A sample of 25 bags is taken, and the average weight is found to be 748\n",
    "# grams, with a standard deviation of 5 grams. Test the manufacturer's claim using a\n",
    "# one-tailed t-test with a significance level of 0.05.\n",
    "\n",
    "x =148\n",
    "population_mean =150\n",
    "sample_mean =148\n",
    "std = 5\n",
    "sample_no = 25\n",
    "alpha = 0.05\n",
    "\n"
   ]
  },
  {
   "cell_type": "code",
   "execution_count": 3,
   "metadata": {},
   "outputs": [
    {
     "data": {
      "text/plain": [
       "np.float64(-1.7108820799094282)"
      ]
     },
     "execution_count": 3,
     "metadata": {},
     "output_type": "execute_result"
    }
   ],
   "source": [
    "T_table = st.t.ppf(0.05,24)\n",
    "T_table"
   ]
  },
  {
   "cell_type": "code",
   "execution_count": 4,
   "metadata": {},
   "outputs": [
    {
     "data": {
      "text/plain": [
       "np.float64(-2.0)"
      ]
     },
     "execution_count": 4,
     "metadata": {},
     "output_type": "execute_result"
    }
   ],
   "source": [
    "T_cal = (sample_mean - population_mean)/(std/np.sqrt(sample_no))\n",
    "T_cal"
   ]
  },
  {
   "cell_type": "code",
   "execution_count": 5,
   "metadata": {},
   "outputs": [
    {
     "data": {
      "text/plain": [
       "38"
      ]
     },
     "execution_count": 5,
     "metadata": {},
     "output_type": "execute_result"
    }
   ],
   "source": [
    "# A company wants to test whether there is a difference in productivity between two\n",
    "# teams. They randomly select 20 employees from each team and record their\n",
    "# productivity scores. The mean productivity score for Team A is 80 with a standard\n",
    "# deviation of 5, while the mean productivity score for Team B is 75 with a standard\n",
    "# deviation of 6. Test at a 5% level of significance whether there is a difference\n",
    "# productivity between the two teams.\n",
    "\n",
    "no_of_sample = 20\n",
    "x1= 80\n",
    "x2= 75\n",
    "std1 = 5\n",
    "std2 = 6\n",
    "alpha = 0.05\n",
    "df = (no_of_sample-1)+(no_of_sample-1)\n",
    "df\n",
    "\n"
   ]
  },
  {
   "cell_type": "code",
   "execution_count": 6,
   "metadata": {},
   "outputs": [
    {
     "data": {
      "text/plain": [
       "np.float64(2.024394163911969)"
      ]
     },
     "execution_count": 6,
     "metadata": {},
     "output_type": "execute_result"
    }
   ],
   "source": [
    "t_table = st.t.ppf(1-(alpha/2),df)\n",
    "t_table\n"
   ]
  },
  {
   "cell_type": "code",
   "execution_count": 7,
   "metadata": {},
   "outputs": [
    {
     "data": {
      "text/plain": [
       "np.float64(2.862991671569341)"
      ]
     },
     "execution_count": 7,
     "metadata": {},
     "output_type": "execute_result"
    }
   ],
   "source": [
    "t_cal = (x1-x2)/np.sqrt((std1*std1/no_of_sample)+(std2*std2/no_of_sample))\n",
    "t_cal"
   ]
  },
  {
   "cell_type": "code",
   "execution_count": 8,
   "metadata": {},
   "outputs": [],
   "source": [
    "# A company wants to test whether a new training program improves the typing speed\n",
    "# of its employees. The typing speed of 20 employees was recorded before and after\n",
    "# the training program. The data is given below. Test at a 5% level of significance\n",
    "# whether the training program has an effect on the typing speed of the employees.\n",
    "\n",
    "Before_traning= np.array( [50, 60, 45, 65, 55, 70, 40, 75, 80, 65, 70, 60, 50, 55, 45, 75, 60, 50, 65, 70])\n",
    "After_training= np.array([60, 70, 55, 75, 65, 80, 50, 85, 90, 70, 75, 65, 55, 60, 50, 80, 65, 55, 70, 75])"
   ]
  },
  {
   "cell_type": "code",
   "execution_count": 9,
   "metadata": {},
   "outputs": [
    {
     "name": "stdout",
     "output_type": "stream",
     "text": [
      "60.25 67.5\n",
      "11.008519428151999 11.236102527122116\n"
     ]
    }
   ],
   "source": [
    "Before = np.mean(Before_traning)\n",
    "After = np.mean(After_training)\n",
    "print(Before,After)\n",
    "stander_dvn1 = np.std(Before_traning)\n",
    "stander_dvn2 = np.std(After_training)\n",
    "print(stander_dvn1,stander_dvn2)"
   ]
  },
  {
   "cell_type": "code",
   "execution_count": 10,
   "metadata": {},
   "outputs": [],
   "source": [
    "\n",
    "n_sample = 20\n",
    "s= 0.025\n",
    "x1 = 60.25\n",
    "x2 = 67.5\n",
    "s1 = stander_dvn1\n",
    "s2 = stander_dvn2\n",
    "DF = n_sample -1\n"
   ]
  },
  {
   "cell_type": "code",
   "execution_count": 11,
   "metadata": {},
   "outputs": [
    {
     "data": {
      "text/plain": [
       "np.float64(-1.7108820799094282)"
      ]
     },
     "execution_count": 11,
     "metadata": {},
     "output_type": "execute_result"
    }
   ],
   "source": [
    "T_TABLE = st.t.ppf(1-alpha,DF)\n",
    "T_table\n"
   ]
  },
  {
   "cell_type": "code",
   "execution_count": 12,
   "metadata": {},
   "outputs": [
    {
     "data": {
      "text/plain": [
       "np.float64(-2.061200527128206)"
      ]
     },
     "execution_count": 12,
     "metadata": {},
     "output_type": "execute_result"
    }
   ],
   "source": [
    "TCAL = (x1-x2)/(np.sqrt((s1**2/n_sample)+(s2**2/n_sample)))\n",
    "TCAL"
   ]
  },
  {
   "cell_type": "markdown",
   "metadata": {},
   "source": [
    "### Understanding the t-test\n",
    "\n",
    "A **t-test** is a statistical method used to compare the means of two groups and determine if they are significantly different from each other.\n",
    "#### When do we use a t-test?\n",
    "- When we want to compare the average (mean) values between two groups.\n",
    "- When the sample size is small (usually less than 30).\n",
    "- When the population standard deviation is unknown.\n",
    "#### Types of t-tests\n",
    "1. **One-sample t-test:** Compares the mean of a single group to a known value.\n",
    "2. **Two-sample t-test (independent):** Compares the means of two independent groups.\n",
    "3. **Paired t-test:** Compares means from the same group at different times (e.g., before and after a treatment).\n",
    "#### How does it work?\n",
    "- Calculate the difference between the group means.\n",
    "- Divide by the standard error (a measure of variability).\n",
    "- The result is the **t-value**.\n",
    "- Compare the t-value to a critical value from the t-distribution table (based on significance level and degrees of freedom).\n",
    "- If the t-value is greater than the critical value, the difference is **statistically significant**.\n",
    "#### Example (Paired t-test)\n",
    "Suppose we measure typing speed before and after training for the same employees:\n",
    "- If the average speed increases significantly after training (t-value is large enough), we conclude the training was effective.\n",
    "#### Key Points\n",
    "- **Null hypothesis (H₀):** There is no difference between the means.\n",
    "- **Alternative hypothesis (H₁):** There is a difference between the means.\n",
    "- **Significance level (α):** Commonly set at 0.05 (5%).\n",
    "\n",
    "**In summary:**  \n",
    "A t-test helps us decide if the difference between two averages is real or just due to random chance."
   ]
  },
  {
   "cell_type": "markdown",
   "metadata": {},
   "source": [
    "### Difference Between t-test and z-test\n",
    "\n",
    "| Feature                | t-test                                              | z-test                                         |\n",
    "|------------------------|-----------------------------------------------------|------------------------------------------------|\n",
    "| **Sample Size**        | Typically used when sample size is small (n < 30)   | Used when sample size is large (n ≥ 30)        |\n",
    "| **Population Std Dev** | Population standard deviation is **unknown**        | Population standard deviation is **known**      |\n",
    "| **Distribution**       | Uses the **t-distribution**                         | Uses the **normal (z) distribution**           |\n",
    "| **Application**        | Comparing means when σ is unknown                   | Comparing means when σ is known                |\n",
    "| **Shape**              | t-distribution is wider and has heavier tails       | Normal distribution is fixed                   |\n",
    "| **Example**            | Testing mean of small sample                        | Testing mean of large sample                   |\n",
    "\n",
    "#### Summary\n",
    "- **t-test** is preferred for small samples or when the population standard deviation is not known.\n",
    "- **z-test** is used for large samples with known population standard deviation.\n",
    "\n",
    "**In practice:**  \n",
    "When in doubt and σ is unknown, use the t-test. As sample size increases, the t-distribution approaches the normal distribution."
   ]
  }
 ],
 "metadata": {
  "kernelspec": {
   "display_name": "Python 3",
   "language": "python",
   "name": "python3"
  },
  "language_info": {
   "codemirror_mode": {
    "name": "ipython",
    "version": 3
   },
   "file_extension": ".py",
   "mimetype": "text/x-python",
   "name": "python",
   "nbconvert_exporter": "python",
   "pygments_lexer": "ipython3",
   "version": "3.11.9"
  }
 },
 "nbformat": 4,
 "nbformat_minor": 2
}
