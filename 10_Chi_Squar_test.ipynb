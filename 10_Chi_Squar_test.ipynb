{
 "cells": [
  {
   "cell_type": "code",
   "execution_count": 1,
   "metadata": {},
   "outputs": [],
   "source": [
    "\n",
    "import numpy as np\n",
    "import scipy.stats as st\n",
    "import pandas as pd"
   ]
  },
  {
   "cell_type": "markdown",
   "metadata": {},
   "source": [
    "A fair dice is rolled 720 times and the following results are obtained:\n",
    "Face 7: 22 times\n",
    "Face 2: 77 times\n",
    "Face 3: 20 times\n",
    "26 times\n",
    "Face 4:\n",
    "Face 5: 22 times\n",
    "Face 6: 73 times\n",
    "Test at a 5% level of significance whether the die is fair."
   ]
  },
  {
   "cell_type": "code",
   "execution_count": 2,
   "metadata": {},
   "outputs": [],
   "source": [
    "oi = np.array([22,17,20,26,22,13])\n",
    "ei = np.array([20,20,20,20,20,20])\n",
    "\n",
    "df = 6-1          #die has 6 faces\n",
    "chi_tbl = 11.70"
   ]
  },
  {
   "cell_type": "code",
   "execution_count": 3,
   "metadata": {},
   "outputs": [
    {
     "data": {
      "text/plain": [
       "np.float64(5.1000000000000005)"
      ]
     },
     "execution_count": 3,
     "metadata": {},
     "output_type": "execute_result"
    }
   ],
   "source": [
    "chi_squar = sum((oi-ei)**2/ei)\n",
    "chi_squar"
   ]
  },
  {
   "cell_type": "markdown",
   "metadata": {},
   "source": [
    "A study was conducted to investigate whether there is a relationship between\n",
    "gender and the preferred genre of music. A sample of 235 people was selected, and\n",
    "the data collected is shown below. Test at a 5% level of significance whether there is\n",
    "a significant association between gender and music preference."
   ]
  },
  {
   "cell_type": "code",
   "execution_count": 4,
   "metadata": {},
   "outputs": [
    {
     "data": {
      "text/html": [
       "<div>\n",
       "<style scoped>\n",
       "    .dataframe tbody tr th:only-of-type {\n",
       "        vertical-align: middle;\n",
       "    }\n",
       "\n",
       "    .dataframe tbody tr th {\n",
       "        vertical-align: top;\n",
       "    }\n",
       "\n",
       "    .dataframe thead th {\n",
       "        text-align: right;\n",
       "    }\n",
       "</style>\n",
       "<table border=\"1\" class=\"dataframe\">\n",
       "  <thead>\n",
       "    <tr style=\"text-align: right;\">\n",
       "      <th></th>\n",
       "      <th>pop</th>\n",
       "      <th>hip hop</th>\n",
       "      <th>classical</th>\n",
       "      <th>rock</th>\n",
       "    </tr>\n",
       "  </thead>\n",
       "  <tbody>\n",
       "    <tr>\n",
       "      <th>male</th>\n",
       "      <td>40</td>\n",
       "      <td>45</td>\n",
       "      <td>25</td>\n",
       "      <td>10</td>\n",
       "    </tr>\n",
       "    <tr>\n",
       "      <th>female</th>\n",
       "      <td>35</td>\n",
       "      <td>30</td>\n",
       "      <td>20</td>\n",
       "      <td>30</td>\n",
       "    </tr>\n",
       "  </tbody>\n",
       "</table>\n",
       "</div>"
      ],
      "text/plain": [
       "        pop  hip hop  classical  rock\n",
       "male     40       45         25    10\n",
       "female   35       30         20    30"
      ]
     },
     "execution_count": 4,
     "metadata": {},
     "output_type": "execute_result"
    }
   ],
   "source": [
    "df=pd.DataFrame({\"pop\":[40,35],\"hip hop\":[45,30],\"classical\":[25,20],\"rock\":[10,30]},index=(\"male\",\"female\"))\n",
    "df"
   ]
  },
  {
   "cell_type": "code",
   "execution_count": 5,
   "metadata": {},
   "outputs": [
    {
     "name": "stdout",
     "output_type": "stream",
     "text": [
      "[40 45 25 10] [35 30 20 30]\n"
     ]
    }
   ],
   "source": [
    "no_sample = 235\n",
    "male = np.array(df.loc[\"male\"])\n",
    "female = np.array(df.loc[\"female\"])\n",
    "print(male,female)\n"
   ]
  },
  {
   "cell_type": "code",
   "execution_count": 6,
   "metadata": {},
   "outputs": [
    {
     "data": {
      "text/plain": [
       "array([120, 115])"
      ]
     },
     "execution_count": 6,
     "metadata": {},
     "output_type": "execute_result"
    }
   ],
   "source": [
    "sum_male = np.sum(male)\n",
    "sum_female = np.sum(female)\n",
    "sum_row= np.array([sum_male,sum_female])\n",
    "sum_row"
   ]
  },
  {
   "cell_type": "code",
   "execution_count": 7,
   "metadata": {},
   "outputs": [
    {
     "data": {
      "text/plain": [
       "array([75, 75, 45, 40])"
      ]
     },
     "execution_count": 7,
     "metadata": {},
     "output_type": "execute_result"
    }
   ],
   "source": [
    "col_sum = male+female\n",
    "col_sum"
   ]
  },
  {
   "cell_type": "code",
   "execution_count": 8,
   "metadata": {},
   "outputs": [
    {
     "data": {
      "text/plain": [
       "[np.float64(38.297872340425535),\n",
       " np.float64(38.297872340425535),\n",
       " np.float64(22.97872340425532),\n",
       " np.float64(20.425531914893618),\n",
       " np.float64(36.702127659574465),\n",
       " np.float64(36.702127659574465),\n",
       " np.float64(22.02127659574468),\n",
       " np.float64(19.574468085106382)]"
      ]
     },
     "execution_count": 8,
     "metadata": {},
     "output_type": "execute_result"
    }
   ],
   "source": [
    "expected_value = []\n",
    "for i in sum_row:\n",
    "    for j in col_sum:\n",
    "        expected_value.append(i*j/no_sample)\n",
    "expected_value"
   ]
  },
  {
   "cell_type": "code",
   "execution_count": 9,
   "metadata": {},
   "outputs": [
    {
     "data": {
      "text/plain": [
       "array([40, 45, 25, 10, 35, 30, 20, 30])"
      ]
     },
     "execution_count": 9,
     "metadata": {},
     "output_type": "execute_result"
    }
   ],
   "source": [
    "observation_value = np.hstack((male,female))\n",
    "observation_value"
   ]
  },
  {
   "cell_type": "code",
   "execution_count": 10,
   "metadata": {},
   "outputs": [
    {
     "data": {
      "text/plain": [
       "np.float64(13.788747987117553)"
      ]
     },
     "execution_count": 10,
     "metadata": {},
     "output_type": "execute_result"
    }
   ],
   "source": [
    "chi_squar_test = sum((observation_value-expected_value)**2/expected_value)\n",
    "chi_squar_test"
   ]
  },
  {
   "cell_type": "markdown",
   "metadata": {},
   "source": [
    "## Note on Chi-Square Test\n",
    "\n",
    "The **Chi-Square Test** is a statistical method used to determine whether there is a significant association between categorical variables. It is commonly applied in two scenarios:\n",
    "\n",
    "1. **Goodness-of-Fit Test**: Checks if an observed frequency distribution differs from a theoretical distribution.  \n",
    "    - Example: Testing if a die is fair by comparing observed and expected frequencies for each face.\n",
    "\n",
    "2. **Test of Independence**: Assesses whether two categorical variables are independent of each other.  \n",
    "    - Example: Testing if gender and music preference are related.\n",
    "\n",
    "### Key Steps in Performing a Chi-Square Test\n",
    "\n",
    "- **State the hypotheses**:  \n",
    "  - Null hypothesis (\\(H_0\\)): No association between variables or the observed distribution fits the expected distribution.\n",
    "  - Alternative hypothesis (\\(H_1\\)): There is an association or the distributions differ.\n",
    "\n",
    "- **Calculate the expected frequencies** based on the assumption that \\(H_0\\) is true.\n",
    "\n",
    "- **Compute the test statistic**:  \n",
    "  \\[\n",
    "  \\chi^2 = \\sum \\frac{(O_i - E_i)^2}{E_i}\n",
    "  \\]\n",
    "  where \\(O_i\\) = observed frequency, \\(E_i\\) = expected frequency.\n",
    "\n",
    "- **Compare the calculated \\(\\chi^2\\) value** with the critical value from the chi-square distribution table at the desired significance level (e.g., 5%).\n",
    "\n",
    "- **Draw a conclusion**:  \n",
    "  - If \\(\\chi^2_{calculated} > \\chi^2_{table}\\), reject \\(H_0\\).\n",
    "  - Otherwise, do not reject \\(H_0\\).\n",
    "\n",
    "### Assumptions\n",
    "\n",
    "- The data are frequencies (counts) in categories.\n",
    "- Observations are independent.\n",
    "- Expected frequency in each cell should be at least 5 for validity.\n",
    "\n",
    "The chi-square test is widely used in research to analyze categorical data and test hypotheses about distributions and relationships between variables."
   ]
  },
  {
   "cell_type": "markdown",
   "metadata": {},
   "source": []
  }
 ],
 "metadata": {
  "kernelspec": {
   "display_name": "Python 3",
   "language": "python",
   "name": "python3"
  },
  "language_info": {
   "codemirror_mode": {
    "name": "ipython",
    "version": 3
   },
   "file_extension": ".py",
   "mimetype": "text/x-python",
   "name": "python",
   "nbconvert_exporter": "python",
   "pygments_lexer": "ipython3",
   "version": "3.11.9"
  }
 },
 "nbformat": 4,
 "nbformat_minor": 2
}
