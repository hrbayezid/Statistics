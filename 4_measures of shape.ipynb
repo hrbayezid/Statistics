{
 "cells": [
  {
   "cell_type": "code",
   "execution_count": 2,
   "metadata": {},
   "outputs": [],
   "source": [
    "import numpy as np\n",
    "import pandas as pd\n",
    "import matplotlib.pyplot as plt\n",
    "import seaborn as sns"
   ]
  },
  {
   "cell_type": "markdown",
   "metadata": {},
   "source": [
    "***positive skewness***"
   ]
  },
  {
   "cell_type": "code",
   "execution_count": 3,
   "metadata": {},
   "outputs": [
    {
     "data": {
      "image/png": "[encoded data removed]",
      "text/plain": [
       "<Figure size 640x480 with 1 Axes>"
      ]
     },
     "metadata": {},
     "output_type": "display_data"
    }
   ],
   "source": [
    "data = pd.read_csv(\"titanic.csv\")\n",
    "sns.histplot(data[\"Age\"])\n",
    "plt.show()\n"
   ]
  },
  {
   "cell_type": "markdown",
   "metadata": {},
   "source": [
    "***skewness***"
   ]
  },
  {
   "cell_type": "code",
   "execution_count": 4,
   "metadata": {},
   "outputs": [
    {
     "data": {
      "application/vnd.microsoft.datawrangler.viewer.v0+json": {
       "columns": [
        {
         "name": "index",
         "rawType": "int64",
         "type": "integer"
        },
        {
         "name": "0",
         "rawType": "float64",
         "type": "float"
        }
       ],
       "ref": "eb5bebc3-5a6f-4149-a471-3b5c36986375",
       "rows": [
        [
         "0",
         "-52.70340236579927"
        ],
        [
         "1",
         "5.695246140629976"
        ],
        [
         "2",
         "79.8412882151668"
        ],
        [
         "3",
         "-98.12594230311372"
        ],
        [
         "4",
         "-168.32504995658596"
        ],
        [
         "5",
         "-32.31433058237809"
        ],
        [
         "6",
         "-67.10221277025383"
        ],
        [
         "7",
         "-238.20630619235646"
        ],
        [
         "8",
         "178.52170706002494"
        ],
        [
         "9",
         "-51.084229068685204"
        ],
        [
         "10",
         "80.08467226897447"
        ],
        [
         "11",
         "11.682125855704575"
        ],
        [
         "12",
         "-70.61051842339843"
        ],
        [
         "13",
         "-112.54944678873424"
        ],
        [
         "14",
         "-76.56059654413173"
        ],
        [
         "15",
         "36.02815327923171"
        ],
        [
         "16",
         "-73.14240587427979"
        ],
        [
         "17",
         "-13.517533771671674"
        ],
        [
         "18",
         "225.01996727947713"
        ],
        [
         "19",
         "121.81194334780892"
        ],
        [
         "20",
         "-2.5657319995157133"
        ],
        [
         "21",
         "-70.17005388695426"
        ],
        [
         "22",
         "144.2646375686436"
        ],
        [
         "23",
         "16.11233880974361"
        ],
        [
         "24",
         "-127.3729186335245"
        ],
        [
         "25",
         "-94.9216668099036"
        ],
        [
         "26",
         "19.29045780733246"
        ],
        [
         "27",
         "15.454643347883046"
        ],
        [
         "28",
         "-8.959549961146527"
        ],
        [
         "29",
         "21.130061591386745"
        ],
        [
         "30",
         "42.53130511398109"
        ],
        [
         "31",
         "-141.18256047789083"
        ],
        [
         "32",
         "12.415075550726343"
        ],
        [
         "33",
         "13.2949104885245"
        ],
        [
         "34",
         "20.073076793503297"
        ],
        [
         "35",
         "243.12208329944235"
        ],
        [
         "36",
         "-76.42024242381106"
        ],
        [
         "37",
         "-61.851620919297524"
        ],
        [
         "38",
         "-162.64460558937787"
        ],
        [
         "39",
         "-63.96837330925834"
        ],
        [
         "40",
         "99.86791754559462"
        ],
        [
         "41",
         "-81.50702989045571"
        ],
        [
         "42",
         "-256.0240010247701"
        ],
        [
         "43",
         "100.73130119991802"
        ],
        [
         "44",
         "-45.77676985677902"
        ],
        [
         "45",
         "-37.561499660910705"
        ],
        [
         "46",
         "-132.8146439817156"
        ],
        [
         "47",
         "-89.44634855749095"
        ],
        [
         "48",
         "54.44187149747537"
        ],
        [
         "49",
         "76.8985610379648"
        ]
       ],
       "shape": {
        "columns": 1,
        "rows": 50
       }
      },
      "text/html": [
       "<div>\n",
       "<style scoped>\n",
       "    .dataframe tbody tr th:only-of-type {\n",
       "        vertical-align: middle;\n",
       "    }\n",
       "\n",
       "    .dataframe tbody tr th {\n",
       "        vertical-align: top;\n",
       "    }\n",
       "\n",
       "    .dataframe thead th {\n",
       "        text-align: right;\n",
       "    }\n",
       "</style>\n",
       "<table border=\"1\" class=\"dataframe\">\n",
       "  <thead>\n",
       "    <tr style=\"text-align: right;\">\n",
       "      <th></th>\n",
       "      <th>0</th>\n",
       "    </tr>\n",
       "  </thead>\n",
       "  <tbody>\n",
       "    <tr>\n",
       "      <th>0</th>\n",
       "      <td>-52.703402</td>\n",
       "    </tr>\n",
       "    <tr>\n",
       "      <th>1</th>\n",
       "      <td>5.695246</td>\n",
       "    </tr>\n",
       "    <tr>\n",
       "      <th>2</th>\n",
       "      <td>79.841288</td>\n",
       "    </tr>\n",
       "    <tr>\n",
       "      <th>3</th>\n",
       "      <td>-98.125942</td>\n",
       "    </tr>\n",
       "    <tr>\n",
       "      <th>4</th>\n",
       "      <td>-168.325050</td>\n",
       "    </tr>\n",
       "    <tr>\n",
       "      <th>5</th>\n",
       "      <td>-32.314331</td>\n",
       "    </tr>\n",
       "    <tr>\n",
       "      <th>6</th>\n",
       "      <td>-67.102213</td>\n",
       "    </tr>\n",
       "    <tr>\n",
       "      <th>7</th>\n",
       "      <td>-238.206306</td>\n",
       "    </tr>\n",
       "    <tr>\n",
       "      <th>8</th>\n",
       "      <td>178.521707</td>\n",
       "    </tr>\n",
       "    <tr>\n",
       "      <th>9</th>\n",
       "      <td>-51.084229</td>\n",
       "    </tr>\n",
       "    <tr>\n",
       "      <th>10</th>\n",
       "      <td>80.084672</td>\n",
       "    </tr>\n",
       "    <tr>\n",
       "      <th>11</th>\n",
       "      <td>11.682126</td>\n",
       "    </tr>\n",
       "    <tr>\n",
       "      <th>12</th>\n",
       "      <td>-70.610518</td>\n",
       "    </tr>\n",
       "    <tr>\n",
       "      <th>13</th>\n",
       "      <td>-112.549447</td>\n",
       "    </tr>\n",
       "    <tr>\n",
       "      <th>14</th>\n",
       "      <td>-76.560597</td>\n",
       "    </tr>\n",
       "    <tr>\n",
       "      <th>15</th>\n",
       "      <td>36.028153</td>\n",
       "    </tr>\n",
       "    <tr>\n",
       "      <th>16</th>\n",
       "      <td>-73.142406</td>\n",
       "    </tr>\n",
       "    <tr>\n",
       "      <th>17</th>\n",
       "      <td>-13.517534</td>\n",
       "    </tr>\n",
       "    <tr>\n",
       "      <th>18</th>\n",
       "      <td>225.019967</td>\n",
       "    </tr>\n",
       "    <tr>\n",
       "      <th>19</th>\n",
       "      <td>121.811943</td>\n",
       "    </tr>\n",
       "    <tr>\n",
       "      <th>20</th>\n",
       "      <td>-2.565732</td>\n",
       "    </tr>\n",
       "    <tr>\n",
       "      <th>21</th>\n",
       "      <td>-70.170054</td>\n",
       "    </tr>\n",
       "    <tr>\n",
       "      <th>22</th>\n",
       "      <td>144.264638</td>\n",
       "    </tr>\n",
       "    <tr>\n",
       "      <th>23</th>\n",
       "      <td>16.112339</td>\n",
       "    </tr>\n",
       "    <tr>\n",
       "      <th>24</th>\n",
       "      <td>-127.372919</td>\n",
       "    </tr>\n",
       "    <tr>\n",
       "      <th>25</th>\n",
       "      <td>-94.921667</td>\n",
       "    </tr>\n",
       "    <tr>\n",
       "      <th>26</th>\n",
       "      <td>19.290458</td>\n",
       "    </tr>\n",
       "    <tr>\n",
       "      <th>27</th>\n",
       "      <td>15.454643</td>\n",
       "    </tr>\n",
       "    <tr>\n",
       "      <th>28</th>\n",
       "      <td>-8.959550</td>\n",
       "    </tr>\n",
       "    <tr>\n",
       "      <th>29</th>\n",
       "      <td>21.130062</td>\n",
       "    </tr>\n",
       "    <tr>\n",
       "      <th>30</th>\n",
       "      <td>42.531305</td>\n",
       "    </tr>\n",
       "    <tr>\n",
       "      <th>31</th>\n",
       "      <td>-141.182560</td>\n",
       "    </tr>\n",
       "    <tr>\n",
       "      <th>32</th>\n",
       "      <td>12.415076</td>\n",
       "    </tr>\n",
       "    <tr>\n",
       "      <th>33</th>\n",
       "      <td>13.294910</td>\n",
       "    </tr>\n",
       "    <tr>\n",
       "      <th>34</th>\n",
       "      <td>20.073077</td>\n",
       "    </tr>\n",
       "    <tr>\n",
       "      <th>35</th>\n",
       "      <td>243.122083</td>\n",
       "    </tr>\n",
       "    <tr>\n",
       "      <th>36</th>\n",
       "      <td>-76.420242</td>\n",
       "    </tr>\n",
       "    <tr>\n",
       "      <th>37</th>\n",
       "      <td>-61.851621</td>\n",
       "    </tr>\n",
       "    <tr>\n",
       "      <th>38</th>\n",
       "      <td>-162.644606</td>\n",
       "    </tr>\n",
       "    <tr>\n",
       "      <th>39</th>\n",
       "      <td>-63.968373</td>\n",
       "    </tr>\n",
       "    <tr>\n",
       "      <th>40</th>\n",
       "      <td>99.867918</td>\n",
       "    </tr>\n",
       "    <tr>\n",
       "      <th>41</th>\n",
       "      <td>-81.507030</td>\n",
       "    </tr>\n",
       "    <tr>\n",
       "      <th>42</th>\n",
       "      <td>-256.024001</td>\n",
       "    </tr>\n",
       "    <tr>\n",
       "      <th>43</th>\n",
       "      <td>100.731301</td>\n",
       "    </tr>\n",
       "    <tr>\n",
       "      <th>44</th>\n",
       "      <td>-45.776770</td>\n",
       "    </tr>\n",
       "    <tr>\n",
       "      <th>45</th>\n",
       "      <td>-37.561500</td>\n",
       "    </tr>\n",
       "    <tr>\n",
       "      <th>46</th>\n",
       "      <td>-132.814644</td>\n",
       "    </tr>\n",
       "    <tr>\n",
       "      <th>47</th>\n",
       "      <td>-89.446349</td>\n",
       "    </tr>\n",
       "    <tr>\n",
       "      <th>48</th>\n",
       "      <td>54.441871</td>\n",
       "    </tr>\n",
       "    <tr>\n",
       "      <th>49</th>\n",
       "      <td>76.898561</td>\n",
       "    </tr>\n",
       "  </tbody>\n",
       "</table>\n",
       "</div>"
      ],
      "text/plain": [
       "             0\n",
       "0   -52.703402\n",
       "1     5.695246\n",
       "2    79.841288\n",
       "3   -98.125942\n",
       "4  -168.325050\n",
       "5   -32.314331\n",
       "6   -67.102213\n",
       "7  -238.206306\n",
       "8   178.521707\n",
       "9   -51.084229\n",
       "10   80.084672\n",
       "11   11.682126\n",
       "12  -70.610518\n",
       "13 -112.549447\n",
       "14  -76.560597\n",
       "15   36.028153\n",
       "16  -73.142406\n",
       "17  -13.517534\n",
       "18  225.019967\n",
       "19  121.811943\n",
       "20   -2.565732\n",
       "21  -70.170054\n",
       "22  144.264638\n",
       "23   16.112339\n",
       "24 -127.372919\n",
       "25  -94.921667\n",
       "26   19.290458\n",
       "27   15.454643\n",
       "28   -8.959550\n",
       "29   21.130062\n",
       "30   42.531305\n",
       "31 -141.182560\n",
       "32   12.415076\n",
       "33   13.294910\n",
       "34   20.073077\n",
       "35  243.122083\n",
       "36  -76.420242\n",
       "37  -61.851621\n",
       "38 -162.644606\n",
       "39  -63.968373\n",
       "40   99.867918\n",
       "41  -81.507030\n",
       "42 -256.024001\n",
       "43  100.731301\n",
       "44  -45.776770\n",
       "45  -37.561500\n",
       "46 -132.814644\n",
       "47  -89.446349\n",
       "48   54.441871\n",
       "49   76.898561"
      ]
     },
     "execution_count": 4,
     "metadata": {},
     "output_type": "execute_result"
    }
   ],
   "source": [
    "data2 = np.random.normal(0,100,50)\n",
    "df = pd.DataFrame(data2)\n",
    "df"
   ]
  },
  {
   "cell_type": "code",
   "execution_count": 7,
   "metadata": {},
   "outputs": [
    {
     "name": "stdout",
     "output_type": "stream",
     "text": [
      "0.2716393732076312 positive skewness\n"
     ]
    },
    {
     "data": {
      "text/plain": [
       "<Axes: ylabel='Count'>"
      ]
     },
     "execution_count": 7,
     "metadata": {},
     "output_type": "execute_result"
    },
    {
     "data": {
      "image/png": "[encoded data removed]",
      "text/plain": [
       "<Figure size 640x480 with 1 Axes>"
      ]
     },
     "metadata": {},
     "output_type": "display_data"
    }
   ],
   "source": [
    "\n",
    "skw = df[0].skew()\n",
    "\n",
    "if (skw < 0) : \n",
    "    print(skw,\"negative skewness\")\n",
    "elif (skw == 0) : \n",
    "    print(skw,\"normal skewness\")\n",
    "else:\n",
    "    print(skw,\"positive skewness\")\n",
    "\n",
    "sns.histplot(df,kde=True)"
   ]
  },
  {
   "cell_type": "code",
   "execution_count": null,
   "metadata": {},
   "outputs": [],
   "source": []
  }
 ],
 "metadata": {
  "kernelspec": {
   "display_name": "Python 3",
   "language": "python",
   "name": "python3"
  },
  "language_info": {
   "codemirror_mode": {
    "name": "ipython",
    "version": 3
   },
   "file_extension": ".py",
   "mimetype": "text/x-python",
   "name": "python",
   "nbconvert_exporter": "python",
   "pygments_lexer": "ipython3",
   "version": "3.11.9"
  }
 },
 "nbformat": 4,
 "nbformat_minor": 2
}
