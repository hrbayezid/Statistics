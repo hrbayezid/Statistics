{
 "cells": [
  {
   "cell_type": "code",
   "execution_count": 14,
   "metadata": {},
   "outputs": [],
   "source": [
    "import numpy as np\n",
    "import scipy.stats as st\n",
    "import matplotlib.pyplot as plt\n",
    "import seaborn as sns"
   ]
  },
  {
   "cell_type": "code",
   "execution_count": 15,
   "metadata": {},
   "outputs": [
    {
     "name": "stdout",
     "output_type": "stream",
     "text": [
      "Critical z-value: 1.6448536269514722\n",
      "Calculated z: 3.5999999999999996\n",
      "Reject H0: The mean score is significantly greater than 82.\n"
     ]
    }
   ],
   "source": [
    "# A teacher claims that the mean score of students in his class is greater\n",
    "# than 82 with a standard deviation of 20. If a sample of 81 students was\n",
    "# selected with a mean score of 90.\n",
    "\n",
    "p_mew = 82\n",
    "sample_mean = 90\n",
    "alpha = 0.05\n",
    "sigma = 20\n",
    "sample_no =81\n",
    "\n",
    "# Calculate the z-value for the given significance level (right-tailed test)\n",
    "z_value = st.norm.ppf(1 - alpha)\n",
    "\n",
    "# Calculate the test statistic (z_cal)\n",
    "z_cal = (sample_mean - p_mew) / (sigma / np.sqrt(sample_no))\n",
    "\n",
    "# Print results\n",
    "print(\"Critical z-value:\", z_value)\n",
    "print(\"Calculated z:\", z_cal)\n",
    "\n",
    "# Decision\n",
    "if z_cal > z_value:\n",
    "    print(\"Reject H0: The mean score is significantly greater than 82.\")\n",
    "else:\n",
    "    print(\"Fail to reject H0: Not enough evidence that the mean score is greater than 82.\")"
   ]
  },
  {
   "cell_type": "code",
   "execution_count": 16,
   "metadata": {},
   "outputs": [
    {
     "data": {
      "text/plain": [
       "np.float64(1.6448536269514722)"
      ]
     },
     "execution_count": 16,
     "metadata": {},
     "output_type": "execute_result"
    }
   ],
   "source": [
    "z_value =st.norm.ppf(1-0.05)\n",
    "z_value"
   ]
  },
  {
   "cell_type": "code",
   "execution_count": 17,
   "metadata": {},
   "outputs": [
    {
     "data": {
      "text/plain": [
       "np.float64(3.5999999999999996)"
      ]
     },
     "execution_count": 17,
     "metadata": {},
     "output_type": "execute_result"
    }
   ],
   "source": [
    "z_cal = (sample_mean - p_mew)/(sigma/np.sqrt(81))\n",
    "z_cal"
   ]
  },
  {
   "cell_type": "code",
   "execution_count": 18,
   "metadata": {},
   "outputs": [
    {
     "name": "stdout",
     "output_type": "stream",
     "text": [
      "Ha is right\n"
     ]
    }
   ],
   "source": [
    "if z_value> z_cal: print(\"H0 is righr\")\n",
    "if z_value <z_cal: print(\"Ha is right\")"
   ]
  },
  {
   "cell_type": "code",
   "execution_count": 19,
   "metadata": {},
   "outputs": [],
   "source": [
    "# Scenario: Imagine you work for an e-commerce company, and your team is responsible for analyzing\n",
    "# customer purchase data. You want to determine whether a new website design has led to a significant\n",
    "# increase in the average purchase amount compared to the old design.\n",
    "\n",
    "# Data: You have collected data from a random sample of 30 customers who made purchases on the old\n",
    "# website design and 30 customers who made purchases on the new website design. You have the sample means,\n",
    "# sample standard deviations=2.5, and sample sizes for both groups.\n",
    "\n",
    "old = 45.2,42.8,38.9,43.5,41.0,44.6,40.5,42.7,39.8,41.4,44.3,39.7,42.1,40.6,43.0,42.2,41.5,39.6,44.0,38.7,43.9,42.0,41.9,42.8,43.7,41.3,40.9,42.5,41.6,50.6\n",
    "\n",
    "new = 48.5,49.1,50.2,47.8,48.7,49.9,48.0,50.5,49.8,49.6,48.2,48.9,49.7,50.3,49.4,50.1,48.6,48.3,49.0,50.0,48.4,49.3,49.5,48.8,50.6,50.4,48.1,49.2,50.7,50.8\n"
   ]
  },
  {
   "cell_type": "code",
   "execution_count": 20,
   "metadata": {},
   "outputs": [
    {
     "data": {
      "text/plain": [
       "(30, 30)"
      ]
     },
     "execution_count": 20,
     "metadata": {},
     "output_type": "execute_result"
    }
   ],
   "source": [
    "old_data = np.array(old)\n",
    "new_data = np.array(new)\n",
    "len(old),len(new)"
   ]
  },
  {
   "cell_type": "code",
   "execution_count": 21,
   "metadata": {},
   "outputs": [
    {
     "name": "stdout",
     "output_type": "stream",
     "text": [
      "49.346666666666664 42.24333333333333\n"
     ]
    }
   ],
   "source": [
    "alpha =0.05\n",
    "sigma_std = 2.5\n",
    "no_of_sample = 30\n",
    "new_mean = np.mean(new_data)\n",
    "old_mean = np.mean(old_data)\n",
    "print(new_mean,old_mean)\n",
    "\n"
   ]
  },
  {
   "cell_type": "code",
   "execution_count": 22,
   "metadata": {},
   "outputs": [
    {
     "data": {
      "text/plain": [
       "np.float64(0.254059056469189)"
      ]
     },
     "execution_count": 22,
     "metadata": {},
     "output_type": "execute_result"
    }
   ],
   "source": [
    "z_table = st.norm.pdf(1-0.05)\n",
    "z_table"
   ]
  },
  {
   "cell_type": "code",
   "execution_count": 23,
   "metadata": {},
   "outputs": [
    {
     "data": {
      "text/plain": [
       "np.float64(0.5187541200193372)"
      ]
     },
     "execution_count": 23,
     "metadata": {},
     "output_type": "execute_result"
    }
   ],
   "source": [
    "z_calculation = (new_mean-old_mean)/sigma_std/(np.sqrt(no_of_sample))\n",
    "z_calculation"
   ]
  },
  {
   "cell_type": "code",
   "execution_count": 24,
   "metadata": {},
   "outputs": [
    {
     "name": "stdout",
     "output_type": "stream",
     "text": [
      "Ha is right\n"
     ]
    }
   ],
   "source": [
    "if z_table > z_calculation:\n",
    "    print(\"h0 IS RIGHT\")\n",
    "if z_table < z_calculation:\n",
    "    print(\"Ha is right\")"
   ]
  },
  {
   "cell_type": "code",
   "execution_count": null,
   "metadata": {},
   "outputs": [],
   "source": [
    "# One-Sample Z-Test: Test if mean of new_data > 48\n",
    "\n",
    "mu = 48  # Hypothesized mean\n",
    "sample_mean = new_mean\n",
    "sample_std = np.std(new_data, ddof=0)\n",
    "n = no_of_sample\n",
    "\n",
    "z_stat = (sample_mean - mu) / (sample_std / np.sqrt(n))\n",
    "p_value = 1 - st.norm.cdf(z_stat)  # right-tailed\n",
    "\n",
    "print(\"Z-statistic:\", z_stat)\n",
    "print(\"p-value:\", p_value)"
   ]
  },
  {
   "cell_type": "code",
   "execution_count": null,
   "metadata": {},
   "outputs": [],
   "source": [
    "# Two-Sample Z-Test: Test if mean of new_data > mean of old_data\n",
    "\n",
    "# Calculate sample means and standard deviations\n",
    "mean_old = np.mean(old_data)\n",
    "mean_new = np.mean(new_data)\n",
    "std_old = np.std(old_data, ddof=0)\n",
    "std_new = np.std(new_data, ddof=0)\n",
    "n_old = len(old_data)\n",
    "n_new = len(new_data)\n",
    "\n",
    "# Standard error for the difference in means\n",
    "se = np.sqrt((std_old**2 / n_old) + (std_new**2 / n_new))\n",
    "\n",
    "# Z-statistic\n",
    "z_stat_2samp = (mean_new - mean_old) / se\n",
    "\n",
    "# p-value (right-tailed)\n",
    "p_value_2samp = 1 - st.norm.cdf(z_stat_2samp)\n",
    "\n",
    "print(\"Two-sample Z-statistic:\", z_stat_2samp)\n",
    "print(\"p-value:\", p_value_2samp)"
   ]
  },
  {
   "cell_type": "markdown",
   "metadata": {},
   "source": [
    "# Understanding the Z-Test\n",
    "\n",
    "The **z-test** is a statistical method used to determine whether there is a significant difference between sample data and a population, or between two samples. It is commonly used when the population variance is known and the sample size is large (typically n > 30).\n",
    "\n",
    "---\n",
    "\n",
    "## When to Use a Z-Test?\n",
    "\n",
    "- **Sample size is large** (n > 30)\n",
    "- **Population standard deviation (σ) is known**\n",
    "- Data is **normally distributed** or sample size is large enough for the Central Limit Theorem to apply\n",
    "\n",
    "---\n",
    "\n",
    "## Types of Z-Tests\n",
    "\n",
    "1. **One-Sample Z-Test**\n",
    "    - Compares the mean of a single sample to a known population mean.\n",
    "\n",
    "2. **Two-Sample Z-Test**\n",
    "    - Compares the means of two independent samples.\n",
    "\n",
    "---\n",
    "\n",
    "## Steps in Performing a Z-Test\n",
    "\n",
    "1. **State the Hypotheses**\n",
    "    - Null hypothesis (H₀): No difference (e.g., sample mean = population mean)\n",
    "    - Alternative hypothesis (H₁): There is a difference\n",
    "\n",
    "2. **Calculate the Z-Statistic**\n",
    "\n",
    "    \\[\n",
    "    z = {\\bar{x} - \\mu}{\\sigma / \\sqrt{n}}\n",
    "    \\]\n",
    "\n",
    "    **Where:**\n",
    "\n",
    "    - \\( \\bar{x} \\): Sample mean  \n",
    "    - \\( \\mu \\): Population mean  \n",
    "    - \\( \\sigma \\): Population standard deviation  \n",
    "    - \\( n \\): Sample size\n",
    "\n",
    "3. **Find the Critical Value**\n",
    "    - Based on the chosen significance level (α, e.g., 0.05), use the z-table to find the critical z-value.\n",
    "    4. **Make a Decision**\n",
    "        - **If the calculated z is greater than the critical z (for a right-tailed test):**  \n",
    "          **Reject H₀** (There is enough evidence to support the alternative hypothesis).\n",
    "        - **If the calculated z is less than or equal to the critical z:**  \n",
    "          **Fail to reject H₀** (There is not enough evidence to support the alternative hypothesis).\n",
    "\n",
    "---\n",
    "\n",
    "## Example\n",
    "\n",
    "Suppose a teacher claims the average score is greater than 82. A sample of 81 students has a mean score of 90, and the population standard deviation is 20.\n",
    "\n",
    "- **Null hypothesis (H₀):** μ = 82\n",
    "- **Alternative hypothesis (H₁):** μ > 82\n",
    "\n",
    "Calculate z:\n",
    "\n",
    "\\[\n",
    "z = \\frac{90 - 82}{20 / \\sqrt{81}} = 3.6\n",
    "\\]\n",
    "\n",
    "If the critical z-value at α = 0.05 is 1.645, since 3.6 > 1.645, we **reject H₀**.\n",
    "\n",
    "---\n",
    "\n",
    "## Key Points\n",
    "\n",
    "- Z-test helps compare means using standard deviation and sample size.\n",
    "- Use when population variance is known and sample size is large.\n",
    "- Compare calculated z to critical z to make a decision.\n",
    "\n",
    "---\n",
    "\n",
    "> **Tip:** For small samples or unknown population variance, use the **t-test** instead!"
   ]
  },
  {
   "cell_type": "code",
   "execution_count": null,
   "metadata": {},
   "outputs": [
    {
     "name": "stdout",
     "output_type": "stream",
     "text": [
      "Z-statistic: 8.465553339819863\n",
      "p-value: 0.0\n"
     ]
    }
   ],
   "source": [
    "\n",
    "\n"
   ]
  },
  {
   "cell_type": "code",
   "execution_count": null,
   "metadata": {},
   "outputs": [
    {
     "name": "stdout",
     "output_type": "stream",
     "text": [
      "Two-sample Z-statistic: 16.010869375788996\n",
      "p-value: 0.0\n"
     ]
    }
   ],
   "source": []
  },
  {
   "cell_type": "code",
   "execution_count": null,
   "metadata": {},
   "outputs": [],
   "source": []
  }
 ],
 "metadata": {
  "kernelspec": {
   "display_name": "Python 3",
   "language": "python",
   "name": "python3"
  },
  "language_info": {
   "codemirror_mode": {
    "name": "ipython",
    "version": 3
   },
   "file_extension": ".py",
   "mimetype": "text/x-python",
   "name": "python",
   "nbconvert_exporter": "python",
   "pygments_lexer": "ipython3",
   "version": "3.11.9"
  }
 },
 "nbformat": 4,
 "nbformat_minor": 2
}
